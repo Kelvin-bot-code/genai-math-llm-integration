{
 "cells": [
  {
   "cell_type": "code",
   "execution_count": 17,
   "id": "c550655e",
   "metadata": {
    "height": 132
   },
   "outputs": [],
   "source": [
    "import os\n",
    "import math\n",
    "import openai\n",
    "import json\n",
    "from dotenv import load_dotenv, find_dotenv\n",
    "_ = load_dotenv(find_dotenv()) # read local .env file\n",
    "openai.api_key = os.environ['OPENAI_API_KEY']"
   ]
  },
  {
   "cell_type": "code",
   "execution_count": 18,
   "id": "51dd56c5",
   "metadata": {
    "height": 64
   },
   "outputs": [],
   "source": [
    "def cal_cylinder_vol(radius, height):\n",
    "    volume = math.pi*(math.pow(radius,2))*height\n",
    "    return json.dumps({\"radius\": radius, \"height\": height, \"volume\": volume})"
   ]
  },
  {
   "cell_type": "code",
   "execution_count": 19,
   "id": "299bce0e",
   "metadata": {
    "height": 251
   },
   "outputs": [],
   "source": [
    "functions = [\n",
    "    {\n",
    "        \"name\": \"cal_cylinder_vol\",\n",
    "        \"description\": \"Calculate the volume of a cylinder given its radius and height.\",\n",
    "        \"parameters\": {\n",
    "            \"type\": \"object\",\n",
    "            \"properties\": {\n",
    "                \"radius\": {\"type\": \"number\", \"description\": \"Radius of the cylinder in meters\"},\n",
    "                \"height\": {\"type\": \"number\", \"description\": \"Height of the cylinder in meters\"}\n",
    "            },\n",
    "            \"required\": [\"radius\", \"height\"]\n",
    "        }\n",
    "    }\n",
    "]"
   ]
  },
  {
   "cell_type": "code",
   "execution_count": 27,
   "id": "26cfc209",
   "metadata": {
    "height": 200
   },
   "outputs": [
    {
     "name": "stdout",
     "output_type": "stream",
     "text": [
      "Enter the radius of the cylinder: 10\n",
      "Enter the height of the cylinder: 5\n"
     ]
    }
   ],
   "source": [
    "    \n",
    "r = float(input(\"Enter the radius of the cylinder: \"))\n",
    "h = float(input(\"Enter the height of the cylinder: \"))\n",
    "\n",
    "messages = [{\"role\": \"user\", \"content\": f\"What is the volume of a cylinder with radius {r} and height {h} ?\"}]\n",
    "\n",
    "response = openai.ChatCompletion.create(\n",
    "    model=\"gpt-3.5-turbo\",\n",
    "    messages=messages,\n",
    "    functions=functions\n",
    ")"
   ]
  },
  {
   "cell_type": "code",
   "execution_count": 28,
   "id": "798b702c",
   "metadata": {
    "height": 336
   },
   "outputs": [
    {
     "name": "stdout",
     "output_type": "stream",
     "text": [
      "The volume of a cylinder with a radius of 10.0 and a height of 5.0 is approximately 1570.80 cubic units.\n"
     ]
    }
   ],
   "source": [
    "response_message = response[\"choices\"][0][\"message\"]\n",
    "\n",
    "if \"function_call\" in response_message:\n",
    "    args = json.loads(response_message[\"function_call\"][\"arguments\"])\n",
    "    result = cal_cylinder_vol(**args)  \n",
    "\n",
    "    messages.append({\n",
    "        \"role\": \"function\",\n",
    "        \"name\": \"cal_cylinder_vol\",\n",
    "        \"content\": result,\n",
    "    })\n",
    "\n",
    "    final_response = openai.ChatCompletion.create(\n",
    "        model=\"gpt-3.5-turbo\",\n",
    "        messages=messages,\n",
    "    )\n",
    "\n",
    "print(final_response[\"choices\"][0][\"message\"][\"content\"])\n"
   ]
  },
  {
   "cell_type": "code",
   "execution_count": null,
   "id": "7cc2f4ec",
   "metadata": {
    "height": 30
   },
   "outputs": [],
   "source": []
  }
 ],
 "metadata": {
  "kernelspec": {
   "display_name": "Python 3 (ipykernel)",
   "language": "python",
   "name": "python3"
  },
  "language_info": {
   "codemirror_mode": {
    "name": "ipython",
    "version": 3
   },
   "file_extension": ".py",
   "mimetype": "text/x-python",
   "name": "python",
   "nbconvert_exporter": "python",
   "pygments_lexer": "ipython3",
   "version": "3.9.19"
  }
 },
 "nbformat": 4,
 "nbformat_minor": 5
}
